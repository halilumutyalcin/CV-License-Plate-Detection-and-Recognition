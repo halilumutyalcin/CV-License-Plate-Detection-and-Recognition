{
 "cells": [
  {
   "cell_type": "code",
   "execution_count": 3,
   "metadata": {
    "colab": {
     "base_uri": "https://localhost:8080/",
     "height": 64
    },
    "colab_type": "code",
    "id": "lcLM6x21RsPC",
    "outputId": "23dd1621-d3ba-480c-981c-b770c6a88e4f"
   },
   "outputs": [],
   "source": [
    "import tensorflow as tf\n",
    "\n",
    "\n",
    "import warnings\n",
    "warnings.filterwarnings('ignore')\n"
   ]
  },
  {
   "cell_type": "markdown",
   "metadata": {
    "colab_type": "text",
    "id": "SBIZXUySfW2I"
   },
   "source": [
    "### Makesure that your runtime is using GPU"
   ]
  },
  {
   "cell_type": "code",
   "execution_count": 0,
   "metadata": {
    "colab": {
     "base_uri": "https://localhost:8080/",
     "height": 35
    },
    "colab_type": "code",
    "id": "ClKhaBJaR-Jc",
    "outputId": "8317c8d0-80aa-493e-bd08-4a72eabf3c3c"
   },
   "outputs": [
    {
     "name": "stdout",
     "output_type": "stream",
     "text": [
      "Found GPU at: /device:GPU:0\n"
     ]
    }
   ],
   "source": [
    "device_name = tf.test.gpu_device_name()\n",
    "if device_name != '/device:GPU:0':\n",
    "  raise SystemError('GPU device not found')\n",
    "print('Found GPU at: {}'.format(device_name))"
   ]
  },
  {
   "cell_type": "markdown",
   "metadata": {
    "colab_type": "text",
    "id": "95rEMcmnfjZA"
   },
   "source": [
    "### Connect with your Google Drive to download dataset"
   ]
  },
  {
   "cell_type": "code",
   "execution_count": 0,
   "metadata": {
    "colab": {
     "base_uri": "https://localhost:8080/",
     "height": 126
    },
    "colab_type": "code",
    "id": "BlDsNFEeSA1s",
    "outputId": "2e245883-ec50-4927-82d8-3ce1a674b6ac"
   },
   "outputs": [
    {
     "name": "stdout",
     "output_type": "stream",
     "text": [
      "Go to this URL in a browser: https://accounts.google.com/o/oauth2/auth?client_id=947318989803-6bn6qk8qdgf4n4g3pfee6491hc0brc4i.apps.googleusercontent.com&redirect_uri=urn%3aietf%3awg%3aoauth%3a2.0%3aoob&response_type=code&scope=email%20https%3a%2f%2fwww.googleapis.com%2fauth%2fdocs.test%20https%3a%2f%2fwww.googleapis.com%2fauth%2fdrive%20https%3a%2f%2fwww.googleapis.com%2fauth%2fdrive.photos.readonly%20https%3a%2f%2fwww.googleapis.com%2fauth%2fpeopleapi.readonly\n",
      "\n",
      "Enter your authorization code:\n",
      "··········\n",
      "Mounted at /content/drive\n"
     ]
    }
   ],
   "source": [
    "from google.colab import drive\n",
    "drive.mount('/content/drive')"
   ]
  },
  {
   "cell_type": "markdown",
   "metadata": {
    "colab_type": "text",
    "id": "QeOFSDj_fycI"
   },
   "source": [
    "### Unzip dataset"
   ]
  },
  {
   "cell_type": "code",
   "execution_count": null,
   "metadata": {
    "colab": {
     "base_uri": "https://localhost:8080/",
     "height": 1000
    },
    "colab_type": "code",
    "id": "OvZ2gr6aSCCA",
    "outputId": "03bbeb47-c093-4df6-9426-3ae8a473aea2"
   },
   "outputs": [],
   "source": [
    "!unzip \"/content/drive/My Drive/Sharing_storage1/dataset_license.zip\""
   ]
  },
  {
   "cell_type": "markdown",
   "metadata": {
    "colab_type": "text",
    "id": "tIqkTcVCf4YQ"
   },
   "source": [
    "### Data agumentation"
   ]
  },
  {
   "cell_type": "code",
   "execution_count": 0,
   "metadata": {
    "colab": {},
    "colab_type": "code",
    "id": "eb3OFltETAwJ"
   },
   "outputs": [],
   "source": [
    "import cv2\n",
    "import numpy as np\n",
    "import glob\n",
    "from keras.preprocessing.image import ImageDataGenerator, load_img\n",
    "%matplotlib inline"
   ]
  },
  {
   "cell_type": "code",
   "execution_count": 0,
   "metadata": {
    "colab": {
     "base_uri": "https://localhost:8080/",
     "height": 52
    },
    "colab_type": "code",
    "id": "IaGQuqFrTLCp",
    "outputId": "1c13160b-6a6f-4f7a-dddc-47dfc0196aee"
   },
   "outputs": [
    {
     "name": "stdout",
     "output_type": "stream",
     "text": [
      "Found 37623 images belonging to 36 classes.\n",
      "<keras_preprocessing.image.directory_iterator.DirectoryIterator object at 0x7f86700f5710>\n"
     ]
    }
   ],
   "source": [
    "image_gen = ImageDataGenerator(rotation_range=10,\n",
    "                              width_shift_range=0.2,\n",
    "                              height_shift_range=0.2,\n",
    "                              rescale=1/255,\n",
    "                              fill_mode=\"nearest\",\n",
    "                              validation_split=0.1) # set validation split\n",
    "\n",
    "print(image_gen.flow_from_directory(\"dataset_license/\"))"
   ]
  },
  {
   "cell_type": "markdown",
   "metadata": {
    "colab_type": "text",
    "id": "hsdlt2oPgEP5"
   },
   "source": [
    "### Create model following Nidia model architecture"
   ]
  },
  {
   "cell_type": "code",
   "execution_count": 0,
   "metadata": {
    "colab": {},
    "colab_type": "code",
    "id": "G2tP5AQCTaAD"
   },
   "outputs": [],
   "source": [
    "import tensorflow as tf\n",
    "import keras\n",
    "from keras.models import Sequential \n",
    "from keras.layers import Conv2D, MaxPool2D, Dropout, Flatten, Dense, AveragePooling2D\n",
    "from keras.optimizers import Adam\n",
    "from keras.models import load_model\n",
    "from keras.callbacks import ModelCheckpoint, EarlyStopping\n"
   ]
  },
  {
   "cell_type": "code",
   "execution_count": 0,
   "metadata": {
    "colab": {},
    "colab_type": "code",
    "id": "rYIZY7_VTkKz"
   },
   "outputs": [],
   "source": [
    "def nvidia_model():\n",
    "    model = Sequential(name='Nvidia_Model')\n",
    "    \n",
    "    # elu=Expenential Linear Unit, similar to leaky Relu\n",
    "    # skipping 1st hiddel layer (nomralization layer), as we have normalized the data\n",
    "    \n",
    "    # Convolution Layers\n",
    "    model.add(Conv2D(24, (5, 5), strides=(2, 2), input_shape=(224, 80, 3), activation='elu')) \n",
    "    model.add(Conv2D(36, (5, 5), strides=(2, 2), activation='elu')) \n",
    "    model.add(Conv2D(48, (5, 5), strides=(2, 2), activation='elu')) \n",
    "    model.add(Conv2D(64, (3, 3), activation='elu')) \n",
    "    model.add(Dropout(0.2)) # not in original model. added for more robustness\n",
    "    model.add(Conv2D(64, (3, 3), activation='elu'))\n",
    "    \n",
    "    # Fully Connected Layers\n",
    "    model.add(Flatten())\n",
    "    model.add(Dropout(0.2)) # not in original model. added for more robustness\n",
    "    model.add(Dense(100, activation='elu'))\n",
    "    model.add(Dense(50, activation='elu'))\n",
    "    model.add(Dense(10, activation='elu'))\n",
    "      \n",
    "    # output layer:\n",
    "    model.add(Dense(512, activation='elu'))  # not in original model. added for more robustness\n",
    "    model.add(Dense(36,activation='softmax'))\n",
    "    \n",
    "    model.compile(optimizer='adam', loss='categorical_crossentropy', metrics=['accuracy'])\n",
    "    return model"
   ]
  },
  {
   "cell_type": "code",
   "execution_count": 0,
   "metadata": {
    "colab": {
     "base_uri": "https://localhost:8080/",
     "height": 639
    },
    "colab_type": "code",
    "id": "2lSiUXDvTuQq",
    "outputId": "d879c839-a06e-4bd9-a948-507372c355a4"
   },
   "outputs": [
    {
     "name": "stdout",
     "output_type": "stream",
     "text": [
      "Model: \"Nvidia_Model\"\n",
      "_________________________________________________________________\n",
      "Layer (type)                 Output Shape              Param #   \n",
      "=================================================================\n",
      "conv2d_6 (Conv2D)            (None, 110, 38, 24)       1824      \n",
      "_________________________________________________________________\n",
      "conv2d_7 (Conv2D)            (None, 53, 17, 36)        21636     \n",
      "_________________________________________________________________\n",
      "conv2d_8 (Conv2D)            (None, 25, 7, 48)         43248     \n",
      "_________________________________________________________________\n",
      "conv2d_9 (Conv2D)            (None, 23, 5, 64)         27712     \n",
      "_________________________________________________________________\n",
      "dropout_3 (Dropout)          (None, 23, 5, 64)         0         \n",
      "_________________________________________________________________\n",
      "conv2d_10 (Conv2D)           (None, 21, 3, 64)         36928     \n",
      "_________________________________________________________________\n",
      "flatten_2 (Flatten)          (None, 4032)              0         \n",
      "_________________________________________________________________\n",
      "dropout_4 (Dropout)          (None, 4032)              0         \n",
      "_________________________________________________________________\n",
      "dense_5 (Dense)              (None, 100)               403300    \n",
      "_________________________________________________________________\n",
      "dense_6 (Dense)              (None, 50)                5050      \n",
      "_________________________________________________________________\n",
      "dense_7 (Dense)              (None, 10)                510       \n",
      "_________________________________________________________________\n",
      "dense_8 (Dense)              (None, 512)               5632      \n",
      "_________________________________________________________________\n",
      "dense_9 (Dense)              (None, 36)                18468     \n",
      "=================================================================\n",
      "Total params: 564,308\n",
      "Trainable params: 564,308\n",
      "Non-trainable params: 0\n",
      "_________________________________________________________________\n",
      "None\n"
     ]
    }
   ],
   "source": [
    "model = nvidia_model()\n",
    "print(model.summary())"
   ]
  },
  {
   "cell_type": "code",
   "execution_count": 0,
   "metadata": {
    "colab": {},
    "colab_type": "code",
    "id": "w1pLpB8lTxVP"
   },
   "outputs": [],
   "source": [
    "checkpoint_filepath = 'License_plate_nvidia.h5'\n",
    "# EarlyStopping allows model to stop traning in case loss is not reduced after 5 epochs \n",
    "# ModelCheckpoint allosw model to save weight everytime loss is reduced\n",
    "my_checkpointer = [\n",
    "                   EarlyStopping(monitor='val_loss', patience=5, verbose=0),\n",
    "                   ModelCheckpoint(filepath=checkpoint_filepath, verbose=1, save_best_only=True)\n",
    "                   ]"
   ]
  },
  {
   "cell_type": "markdown",
   "metadata": {
    "colab_type": "text",
    "id": "oPtDsD9TgeJp"
   },
   "source": [
    "### Define train and valid dataset and intergated it with data augumentation techinque"
   ]
  },
  {
   "cell_type": "code",
   "execution_count": 0,
   "metadata": {
    "colab": {
     "base_uri": "https://localhost:8080/",
     "height": 52
    },
    "colab_type": "code",
    "id": "VL4cDOztaPGE",
    "outputId": "37549e84-7812-47cd-d3c5-fae1d099bc49"
   },
   "outputs": [
    {
     "name": "stdout",
     "output_type": "stream",
     "text": [
      "Found 33877 images belonging to 36 classes.\n",
      "Found 3746 images belonging to 36 classes.\n"
     ]
    }
   ],
   "source": [
    "input_shape = (224,80,3)\n",
    "batch_size = 64\n",
    "\n",
    "train_image_gen = image_gen.flow_from_directory(\"dataset_license\",\n",
    "                                                target_size=input_shape[:2],\n",
    "                                                batch_size=batch_size,\n",
    "                                                class_mode=\"categorical\",\n",
    "                                                subset=\"training\")\n",
    "valid_image_gen = image_gen.flow_from_directory(\"dataset_license\",\n",
    "                                                target_size=input_shape[:2],\n",
    "                                                batch_size=batch_size,\n",
    "                                                class_mode=\"categorical\",\n",
    "                                                subset=\"validation\")"
   ]
  },
  {
   "cell_type": "markdown",
   "metadata": {
    "colab_type": "text",
    "id": "jzhzwFJHgobj"
   },
   "source": [
    "### Train Model"
   ]
  },
  {
   "cell_type": "code",
   "execution_count": 0,
   "metadata": {
    "colab": {
     "base_uri": "https://localhost:8080/",
     "height": 657
    },
    "colab_type": "code",
    "id": "1krT-pxpVAT-",
    "outputId": "6c93a6ac-7ac4-417b-8a96-a6f5cff12346"
   },
   "outputs": [
    {
     "name": "stdout",
     "output_type": "stream",
     "text": [
      "Epoch 1/40\n",
      "530/530 [==============================] - 142s 268ms/step - loss: 1.9822 - acc: 0.4069 - val_loss: 1.7922 - val_acc: 0.5494\n",
      "\n",
      "Epoch 00001: val_loss improved from inf to 1.79222, saving model to License_plate_nvidia.h5\n",
      "Epoch 2/40\n",
      "530/530 [==============================] - 139s 262ms/step - loss: 0.8825 - acc: 0.7336 - val_loss: 1.3159 - val_acc: 0.6543\n",
      "\n",
      "Epoch 00002: val_loss improved from 1.79222 to 1.31586, saving model to License_plate_nvidia.h5\n",
      "Epoch 3/40\n",
      "530/530 [==============================] - 138s 260ms/step - loss: 0.6329 - acc: 0.8100 - val_loss: 1.2151 - val_acc: 0.7026\n",
      "\n",
      "Epoch 00003: val_loss improved from 1.31586 to 1.21513, saving model to License_plate_nvidia.h5\n",
      "Epoch 4/40\n",
      "530/530 [==============================] - 139s 262ms/step - loss: 0.5493 - acc: 0.8351 - val_loss: 1.0012 - val_acc: 0.7344\n",
      "\n",
      "Epoch 00004: val_loss improved from 1.21513 to 1.00122, saving model to License_plate_nvidia.h5\n",
      "Epoch 5/40\n",
      "530/530 [==============================] - 138s 260ms/step - loss: 0.4797 - acc: 0.8582 - val_loss: 1.5980 - val_acc: 0.6773\n",
      "\n",
      "Epoch 00005: val_loss did not improve from 1.00122\n",
      "Epoch 6/40\n",
      "530/530 [==============================] - 139s 263ms/step - loss: 0.4430 - acc: 0.8666 - val_loss: 1.0198 - val_acc: 0.7579\n",
      "\n",
      "Epoch 00006: val_loss did not improve from 1.00122\n",
      "Epoch 7/40\n",
      "530/530 [==============================] - 138s 261ms/step - loss: 0.4119 - acc: 0.8784 - val_loss: 1.1115 - val_acc: 0.7531\n",
      "\n",
      "Epoch 00007: val_loss did not improve from 1.00122\n",
      "Epoch 8/40\n",
      "530/530 [==============================] - 138s 261ms/step - loss: 0.3931 - acc: 0.8798 - val_loss: 1.1027 - val_acc: 0.7528\n",
      "\n",
      "Epoch 00008: val_loss did not improve from 1.00122\n",
      "Epoch 9/40\n",
      "530/530 [==============================] - 138s 261ms/step - loss: 0.3689 - acc: 0.8899 - val_loss: 1.1185 - val_acc: 0.7581\n",
      "\n",
      "Epoch 00009: val_loss did not improve from 1.00122\n"
     ]
    }
   ],
   "source": [
    "#model.load_weights(\"License_plate_nvidia.h5\")\n",
    "result = model.fit_generator(train_image_gen,epochs=40,steps_per_epoch=len(train_image_gen),\n",
    "                           validation_data=valid_image_gen,validation_steps=len(valid_image_gen),callbacks=my_checkpointer,verbose=1)"
   ]
  },
  {
   "cell_type": "markdown",
   "metadata": {
    "colab_type": "text",
    "id": "CkTpMfO5grnH"
   },
   "source": [
    "### Ploting result"
   ]
  },
  {
   "cell_type": "code",
   "execution_count": 0,
   "metadata": {
    "colab": {
     "base_uri": "https://localhost:8080/",
     "height": 573
    },
    "colab_type": "code",
    "id": "t7ujQQ_ia-RO",
    "outputId": "778f702a-3b1e-4f06-f49f-dedc511be0d6"
   },
   "outputs": [
    {
     "data": {
      "image/png": "[encoded data removed]",
      "text/plain": [
       "<Figure size 432x288 with 1 Axes>"
      ]
     },
     "metadata": {
      "tags": []
     },
     "output_type": "display_data"
    },
    {
     "data": {
      "image/png": "[encoded data removed]",
      "text/plain": [
       "<Figure size 432x288 with 1 Axes>"
      ]
     },
     "metadata": {
      "tags": []
     },
     "output_type": "display_data"
    }
   ],
   "source": [
    "import matplotlib.pyplot as plt\n",
    "plt.figure(0)\n",
    "plt.plot(result.history['acc'], label='training accuracy')\n",
    "plt.plot(result.history['val_acc'], label='val accuracy')\n",
    "plt.title('Accuracy')\n",
    "plt.xlabel('epochs')\n",
    "plt.ylabel('accuracy')\n",
    "plt.legend()\n",
    "#plt.savefig(\"Accuracy.png\", dpi=300)\n",
    "\n",
    "plt.figure(1)\n",
    "plt.plot(result.history['loss'], label='training loss')\n",
    "plt.plot(result.history['val_loss'], label='val loss')\n",
    "plt.title('Loss')\n",
    "plt.xlabel('epochs')\n",
    "plt.ylabel('loss')\n",
    "plt.legend()\n",
    "\n",
    "plt.savefig(\"Loss.png\", dpi=300)"
   ]
  },
  {
   "cell_type": "markdown",
   "metadata": {
    "colab_type": "text",
    "id": "GKCJB1P6gv-g"
   },
   "source": [
    "### Save model architecture as json file"
   ]
  },
  {
   "cell_type": "code",
   "execution_count": 0,
   "metadata": {
    "colab": {},
    "colab_type": "code",
    "id": "wWdlf2o6yp1A"
   },
   "outputs": [],
   "source": [
    "from keras.models import model_from_json\n",
    "model_json = model.to_json()\n",
    "with open(\"License_plate_nvidia.json\",\"w\") as json_file:\n",
    "  json_file.write(model_json)"
   ]
  },
  {
   "cell_type": "markdown",
   "metadata": {
    "colab_type": "text",
    "id": "z4zEBFjwg1WI"
   },
   "source": [
    "### Try to reduce learning rate to improve the model quality"
   ]
  },
  {
   "cell_type": "code",
   "execution_count": 0,
   "metadata": {
    "colab": {
     "base_uri": "https://localhost:8080/",
     "height": 870
    },
    "colab_type": "code",
    "id": "v33Lna-qcqzl",
    "outputId": "7fa38285-bf75-48c6-9390-196953c4e820"
   },
   "outputs": [
    {
     "name": "stdout",
     "output_type": "stream",
     "text": [
      "Epoch 1/40\n",
      "530/530 [==============================] - 141s 267ms/step - loss: 0.3091 - acc: 0.9071 - val_loss: 0.8700 - val_acc: 0.8062\n",
      "\n",
      "Epoch 00001: val_loss improved from 1.00122 to 0.86997, saving model to License_plate_nvidia.h5\n",
      "Epoch 2/40\n",
      "530/530 [==============================] - 139s 262ms/step - loss: 0.2707 - acc: 0.9173 - val_loss: 0.8323 - val_acc: 0.8065\n",
      "\n",
      "Epoch 00002: val_loss improved from 0.86997 to 0.83227, saving model to License_plate_nvidia.h5\n",
      "Epoch 3/40\n",
      "530/530 [==============================] - 139s 263ms/step - loss: 0.2585 - acc: 0.9219 - val_loss: 0.8324 - val_acc: 0.8011\n",
      "\n",
      "Epoch 00003: val_loss did not improve from 0.83227\n",
      "Epoch 4/40\n",
      "530/530 [==============================] - 139s 262ms/step - loss: 0.2488 - acc: 0.9236 - val_loss: 0.8224 - val_acc: 0.8022\n",
      "\n",
      "Epoch 00004: val_loss improved from 0.83227 to 0.82241, saving model to License_plate_nvidia.h5\n",
      "Epoch 5/40\n",
      "530/530 [==============================] - 139s 261ms/step - loss: 0.2466 - acc: 0.9258 - val_loss: 0.8470 - val_acc: 0.8035\n",
      "\n",
      "Epoch 00005: val_loss did not improve from 0.82241\n",
      "Epoch 6/40\n",
      "530/530 [==============================] - 138s 261ms/step - loss: 0.2396 - acc: 0.9270 - val_loss: 0.8410 - val_acc: 0.8051\n",
      "\n",
      "Epoch 00006: val_loss did not improve from 0.82241\n",
      "Epoch 7/40\n",
      "530/530 [==============================] - 138s 260ms/step - loss: 0.2404 - acc: 0.9269 - val_loss: 0.7885 - val_acc: 0.8163\n",
      "\n",
      "Epoch 00007: val_loss improved from 0.82241 to 0.78854, saving model to License_plate_nvidia.h5\n",
      "Epoch 8/40\n",
      "530/530 [==============================] - 139s 262ms/step - loss: 0.2359 - acc: 0.9270 - val_loss: 0.8031 - val_acc: 0.8094\n",
      "\n",
      "Epoch 00008: val_loss did not improve from 0.78854\n",
      "Epoch 9/40\n",
      "530/530 [==============================] - 138s 260ms/step - loss: 0.2327 - acc: 0.9275 - val_loss: 0.8641 - val_acc: 0.8003\n",
      "\n",
      "Epoch 00009: val_loss did not improve from 0.78854\n",
      "Epoch 10/40\n",
      "530/530 [==============================] - 139s 261ms/step - loss: 0.2265 - acc: 0.9306 - val_loss: 0.8188 - val_acc: 0.8158\n",
      "\n",
      "Epoch 00010: val_loss did not improve from 0.78854\n",
      "Epoch 11/40\n",
      "530/530 [==============================] - 138s 261ms/step - loss: 0.2228 - acc: 0.9306 - val_loss: 0.8516 - val_acc: 0.8057\n",
      "\n",
      "Epoch 00011: val_loss did not improve from 0.78854\n",
      "Epoch 12/40\n",
      "530/530 [==============================] - 138s 260ms/step - loss: 0.2253 - acc: 0.9318 - val_loss: 0.8202 - val_acc: 0.8131\n",
      "\n",
      "Epoch 00012: val_loss did not improve from 0.78854\n"
     ]
    }
   ],
   "source": [
    "adam = keras.optimizers.Adam(lr=1e-5, beta_1=0.9, beta_2=0.999, amsgrad=False)\n",
    "model.compile(optimizer=adam, loss='categorical_crossentropy', metrics=['accuracy'])\n",
    "result2 = model.fit_generator(train_image_gen,epochs=40,steps_per_epoch=len(train_image_gen),\n",
    "                           validation_data=valid_image_gen,validation_steps=len(valid_image_gen),callbacks=my_checkpointer,verbose=1)"
   ]
  },
  {
   "cell_type": "markdown",
   "metadata": {
    "colab_type": "text",
    "id": "ZWWoBWljg-lY"
   },
   "source": [
    "# The End!"
   ]
  }
 ],
 "metadata": {
  "accelerator": "GPU",
  "colab": {
   "collapsed_sections": [],
   "name": "License_plate_recognition_nvidianet.ipynb",
   "provenance": []
  },
  "kernelspec": {
   "display_name": "Python 3",
   "language": "python",
   "name": "python3"
  },
  "language_info": {
   "codemirror_mode": {
    "name": "ipython",
    "version": 3
   },
   "file_extension": ".py",
   "mimetype": "text/x-python",
   "name": "python",
   "nbconvert_exporter": "python",
   "pygments_lexer": "ipython3",
   "version": "3.7.1"
  }
 },
 "nbformat": 4,
 "nbformat_minor": 1
}
